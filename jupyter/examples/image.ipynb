{
 "cells": [
  {
   "cell_type": "code",
   "execution_count": 5,
   "id": "fda4a509-5467-4e1a-97ff-44b0ee75ed29",
   "metadata": {},
   "outputs": [
    {
     "name": "stdout",
     "output_type": "stream",
     "text": [
      "Requirement already satisfied: pillow in /home/user/miniconda/lib/python3.9/site-packages (10.0.0)\n"
     ]
    }
   ],
   "source": [
    "!pip install pillow"
   ]
  },
  {
   "cell_type": "code",
   "execution_count": null,
   "id": "48d29651-1a65-401f-894b-c35fd5db80c8",
   "metadata": {},
   "outputs": [],
   "source": []
  },
  {
   "cell_type": "code",
   "execution_count": 6,
   "id": "dfb6a00d-1fa3-42c5-95fa-487d7cc18bcd",
   "metadata": {
    "tags": []
   },
   "outputs": [
    {
     "ename": "NameError",
     "evalue": "name 'BytesIO' is not defined",
     "output_type": "error",
     "traceback": [
      "\u001b[0;31m---------------------------------------------------------------------------\u001b[0m",
      "\u001b[0;31mNameError\u001b[0m                                 Traceback (most recent call last)",
      "Cell \u001b[0;32mIn[6], line 5\u001b[0m\n\u001b[1;32m      3\u001b[0m url \u001b[38;5;241m=\u001b[39m \u001b[38;5;124m'\u001b[39m\u001b[38;5;124mhttps://df7ac175276.acl.multichain.storage/ipfs/QmQ12LaaZLavqQGHMLNd3rNKxuYYkN23YYVx5eCzMbVHQc?filename=lagrange.jpg \u001b[39m\u001b[38;5;124m'\u001b[39m\n\u001b[1;32m      4\u001b[0m \u001b[38;5;28;01mwith\u001b[39;00m urllib\u001b[38;5;241m.\u001b[39mrequest\u001b[38;5;241m.\u001b[39murlopen(url) \u001b[38;5;28;01mas\u001b[39;00m url:\n\u001b[0;32m----> 5\u001b[0m     img \u001b[38;5;241m=\u001b[39m Image\u001b[38;5;241m.\u001b[39mopen(\u001b[43mBytesIO\u001b[49m(url\u001b[38;5;241m.\u001b[39mread()))\n\u001b[1;32m      7\u001b[0m display(img)\n",
      "\u001b[0;31mNameError\u001b[0m: name 'BytesIO' is not defined"
     ]
    }
   ],
   "source": [
    "import urllib.request\n",
    "\n",
    "url = 'https://df7ac175276.acl.multichain.storage/ipfs/QmQ12LaaZLavqQGHMLNd3rNKxuYYkN23YYVx5eCzMbVHQc?filename=lagrange.jpg '\n",
    "with urllib.request.urlopen(url) as url:\n",
    "    img = Image.open(BytesIO(url.read()))\n",
    "\n",
    "display(img)\n",
    "\n"
   ]
  },
  {
   "cell_type": "code",
   "execution_count": 7,
   "id": "f20a4b79-8df1-4509-8e74-fbfb354de552",
   "metadata": {
    "tags": []
   },
   "outputs": [
    {
     "ename": "SyntaxError",
     "evalue": "invalid syntax (3218314007.py, line 1)",
     "output_type": "error",
     "traceback": [
      "\u001b[0;36m  Cell \u001b[0;32mIn[7], line 1\u001b[0;36m\u001b[0m\n\u001b[0;31m    <img src=\"https://df7ac175276.acl.multichain.storage/ipfs/QmQ12LaaZLavqQGHMLNd3rNKxuYYkN23YYVx5eCzMbVHQc?filename=lagrange.jpg\" width=60 height=60 />\u001b[0m\n\u001b[0m    ^\u001b[0m\n\u001b[0;31mSyntaxError\u001b[0m\u001b[0;31m:\u001b[0m invalid syntax\n"
     ]
    }
   ],
   "source": [
    "<img src=\"https://df7ac175276.acl.multichain.storage/ipfs/QmQ12LaaZLavqQGHMLNd3rNKxuYYkN23YYVx5eCzMbVHQc?filename=lagrange.jpg\" width=60 height=60 />"
   ]
  },
  {
   "cell_type": "code",
   "execution_count": null,
   "id": "7a96c91f-06c1-4ae1-9c0f-8c6939e4e63d",
   "metadata": {},
   "outputs": [],
   "source": []
  }
 ],
 "metadata": {
  "kernelspec": {
   "display_name": "Python 3 (ipykernel)",
   "language": "python",
   "name": "python3"
  },
  "language_info": {
   "codemirror_mode": {
    "name": "ipython",
    "version": 3
   },
   "file_extension": ".py",
   "mimetype": "text/x-python",
   "name": "python",
   "nbconvert_exporter": "python",
   "pygments_lexer": "ipython3",
   "version": "3.9.5"
  }
 },
 "nbformat": 4,
 "nbformat_minor": 5
}
